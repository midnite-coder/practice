{
 "cells": [
  {
   "cell_type": "code",
   "execution_count": 6,
   "source": [
    "def interview(lst,n):\r\n",
    "    if lst[0]<=5 and lst[1]<=5:\r\n",
    "        if lst[2]<=10 and lst[3]<=10:\r\n",
    "            if lst[4]<=15 and lst[5]<=15:\r\n",
    "                if lst[6]<=20 and lst[7]<=20:\r\n",
    "                    if n<=120:\r\n",
    "                        return('qualified')\r\n",
    "                    else:\r\n",
    "                        return('disqualified(interview time)')\r\n",
    "                else:\r\n",
    "                    return('disqualified(hard)')\r\n",
    "            else:\r\n",
    "                return('disqualified(med)')    \r\n",
    "        else:\r\n",
    "            return('disqualified(easy)')\r\n",
    "    else:\r\n",
    "        return('disqualified(v.easy)')\r\n",
    "\r\n",
    "interview([5,5,10,10,8,15,20,20],130)"
   ],
   "outputs": [
    {
     "output_type": "execute_result",
     "data": {
      "text/plain": [
       "'disqualified(interview time)'"
      ]
     },
     "metadata": {},
     "execution_count": 6
    }
   ],
   "metadata": {}
  },
  {
   "cell_type": "code",
   "execution_count": null,
   "source": [],
   "outputs": [],
   "metadata": {}
  }
 ],
 "metadata": {
  "orig_nbformat": 4,
  "language_info": {
   "name": "python",
   "version": "3.8.2",
   "mimetype": "text/x-python",
   "codemirror_mode": {
    "name": "ipython",
    "version": 3
   },
   "pygments_lexer": "ipython3",
   "nbconvert_exporter": "python",
   "file_extension": ".py"
  },
  "kernelspec": {
   "name": "python3",
   "display_name": "Python 3.8.2 32-bit"
  },
  "interpreter": {
   "hash": "463e63e35f7cb34f5d88b04eaa9b3a16ac2b5692d43f0849e4b981ac2cc93bdc"
  }
 },
 "nbformat": 4,
 "nbformat_minor": 2
}