{
 "cells": [
  {
   "cell_type": "code",
   "execution_count": 32,
   "source": [
    "\r\n",
    "def carry(a,b):\r\n",
    "    ca=0\r\n",
    "    if (a%10)+(b%10)>=10:\r\n",
    "        ca+=1\r\n",
    "        if (int(a/10)%10)+(int(b/10)%10)>=9:\r\n",
    "            ca+=1\r\n",
    "            if (int(a/10)%10)+(int(b/10)%10)>=9:\r\n",
    "                ca+=1\r\n",
    "                if (int(a/10)%10)+(int(b/10)%10)>=9:\r\n",
    "                    ca+=1\r\n",
    "    else:\r\n",
    "        if (int(a/10)%10)+(int(b/10)%10)>=10:\r\n",
    "            ca+=1\r\n",
    "            if (int(a/10)%10)+(int(b/10)%10)>=9:\r\n",
    "                ca+=1\r\n",
    "                if (int(a/10)%10)+(int(b/10)%10)>=9:\r\n",
    "                    ca+=1\r\n",
    "        else:\r\n",
    "            if (int(a/10)%10)+(int(b/10)%10)>=10:\r\n",
    "                ca+=1\r\n",
    "                if (int(a/10)%10)+(int(b/10)%10)>=9:\r\n",
    "                    ca+=1\r\n",
    "            else:\r\n",
    "                if (int(a/10)%10)+(int(b/10)%10)>=10:\r\n",
    "                    ca+=1\r\n",
    "        \r\n",
    "    return ca\r\n",
    "\r\n",
    "carry(33,67)"
   ],
   "outputs": [
    {
     "output_type": "execute_result",
     "data": {
      "text/plain": [
       "4"
      ]
     },
     "metadata": {},
     "execution_count": 32
    }
   ],
   "metadata": {}
  },
  {
   "cell_type": "code",
   "execution_count": null,
   "source": [],
   "outputs": [],
   "metadata": {}
  }
 ],
 "metadata": {
  "orig_nbformat": 4,
  "language_info": {
   "name": "python",
   "version": "3.8.2",
   "mimetype": "text/x-python",
   "codemirror_mode": {
    "name": "ipython",
    "version": 3
   },
   "pygments_lexer": "ipython3",
   "nbconvert_exporter": "python",
   "file_extension": ".py"
  },
  "kernelspec": {
   "name": "python3",
   "display_name": "Python 3.8.2 32-bit"
  },
  "interpreter": {
   "hash": "463e63e35f7cb34f5d88b04eaa9b3a16ac2b5692d43f0849e4b981ac2cc93bdc"
  }
 },
 "nbformat": 4,
 "nbformat_minor": 2
}