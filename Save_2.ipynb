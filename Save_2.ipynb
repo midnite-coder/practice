{
 "metadata": {
  "language_info": {
   "codemirror_mode": {
    "name": "ipython",
    "version": 3
   },
   "file_extension": ".py",
   "mimetype": "text/x-python",
   "name": "python",
   "nbconvert_exporter": "python",
   "pygments_lexer": "ipython3",
   "version": "3.8.2"
  },
  "orig_nbformat": 4,
  "kernelspec": {
   "name": "python3",
   "display_name": "Python 3.8.2 32-bit"
  },
  "interpreter": {
   "hash": "463e63e35f7cb34f5d88b04eaa9b3a16ac2b5692d43f0849e4b981ac2cc93bdc"
  }
 },
 "nbformat": 4,
 "nbformat_minor": 2,
 "cells": [
  {
   "cell_type": "code",
   "execution_count": 1,
   "source": [
    "def lesser_of_two_evens(a,b):\n",
    "    if (a%2==0) and (b%2==0):\n",
    "        if a<b:\n",
    "            return a\n",
    "        else:\n",
    "            return b\n",
    "    else:\n",
    "        if a>b:\n",
    "            return a\n",
    "        else:\n",
    "            return b"
   ],
   "outputs": [],
   "metadata": {}
  },
  {
   "cell_type": "code",
   "execution_count": 2,
   "source": [
    "lesser_of_two_evens(5,2)"
   ],
   "outputs": [
    {
     "output_type": "execute_result",
     "data": {
      "text/plain": [
       "5"
      ]
     },
     "metadata": {},
     "execution_count": 2
    }
   ],
   "metadata": {}
  },
  {
   "cell_type": "code",
   "execution_count": 3,
   "source": [
    "lesser_of_two_evens(2,4)"
   ],
   "outputs": [
    {
     "output_type": "execute_result",
     "data": {
      "text/plain": [
       "2"
      ]
     },
     "metadata": {},
     "execution_count": 3
    }
   ],
   "metadata": {}
  },
  {
   "cell_type": "code",
   "execution_count": 4,
   "source": [
    "def animal_crackers(text):\n",
    "    x=text.split()\n",
    "    if x[0][0]==x[1][0]:\n",
    "        return True\n",
    "    else:\n",
    "        return False"
   ],
   "outputs": [],
   "metadata": {}
  },
  {
   "cell_type": "code",
   "execution_count": 6,
   "source": [
    "animal_crackers('krazy kan')"
   ],
   "outputs": [
    {
     "output_type": "execute_result",
     "data": {
      "text/plain": [
       "True"
      ]
     },
     "metadata": {},
     "execution_count": 6
    }
   ],
   "metadata": {}
  },
  {
   "cell_type": "code",
   "execution_count": 7,
   "source": [
    "def makes_twenty(n1,n2):\n",
    "    if n1+n2==20 or n1==20 or n2==20:\n",
    "        return True\n",
    "    else:\n",
    "        return False"
   ],
   "outputs": [],
   "metadata": {}
  },
  {
   "cell_type": "code",
   "execution_count": 9,
   "source": [
    "makes_twenty(2,10)\n"
   ],
   "outputs": [
    {
     "output_type": "execute_result",
     "data": {
      "text/plain": [
       "False"
      ]
     },
     "metadata": {},
     "execution_count": 9
    }
   ],
   "metadata": {}
  },
  {
   "cell_type": "code",
   "execution_count": 15,
   "source": [
    "def old_macdonald(name):\n",
    "    return (name[0].upper()+name[1:3]+name[3].upper()+name[4:])\n",
    "old_macdonald('macdonald') "
   ],
   "outputs": [
    {
     "output_type": "execute_result",
     "data": {
      "text/plain": [
       "'MacDonald'"
      ]
     },
     "metadata": {},
     "execution_count": 15
    }
   ],
   "metadata": {}
  },
  {
   "cell_type": "code",
   "execution_count": 18,
   "source": [
    "def master_yoda(text):\n",
    "    temp=text.split()\n",
    "    x= temp[::-1]\n",
    "    new=\" \".join(x)\n",
    "    return new"
   ],
   "outputs": [],
   "metadata": {}
  },
  {
   "cell_type": "code",
   "execution_count": 20,
   "source": [
    "master_yoda('I am home')"
   ],
   "outputs": [
    {
     "output_type": "execute_result",
     "data": {
      "text/plain": [
       "'home am I'"
      ]
     },
     "metadata": {},
     "execution_count": 20
    }
   ],
   "metadata": {}
  },
  {
   "cell_type": "code",
   "execution_count": 21,
   "source": [
    "def almost_there(n):\n",
    "    if (n>=190 and n<=210) or (n>=90 and n<=110):\n",
    "        return True \n",
    "    else:\n",
    "        return False"
   ],
   "outputs": [],
   "metadata": {}
  },
  {
   "cell_type": "code",
   "execution_count": 23,
   "source": [
    "almost_there(150)"
   ],
   "outputs": [
    {
     "output_type": "execute_result",
     "data": {
      "text/plain": [
       "False"
      ]
     },
     "metadata": {},
     "execution_count": 23
    }
   ],
   "metadata": {}
  },
  {
   "cell_type": "code",
   "execution_count": 32,
   "source": [
    "def has_33(nums):\n",
    "    for i in range(0,len(nums)-1):\n",
    "        if nums[i]==3 and nums[i+1]==3:\n",
    "            return True            \n",
    "    return False\n",
    "has_33([0,3,3,1])"
   ],
   "outputs": [
    {
     "output_type": "execute_result",
     "data": {
      "text/plain": [
       "True"
      ]
     },
     "metadata": {},
     "execution_count": 32
    }
   ],
   "metadata": {}
  },
  {
   "cell_type": "code",
   "execution_count": 33,
   "source": [
    "def paper_doll(text):\n",
    "    new_word=''\n",
    "    for i in text:\n",
    "        new_word += i*3\n",
    "    return new_word\n",
    "paper_doll('paper')"
   ],
   "outputs": [
    {
     "output_type": "execute_result",
     "data": {
      "text/plain": [
       "'pppaaapppeeerrr'"
      ]
     },
     "metadata": {},
     "execution_count": 33
    }
   ],
   "metadata": {}
  },
  {
   "cell_type": "code",
   "execution_count": 38,
   "source": [
    "def blackjack(a,b,c):\n",
    "    if a<=11 and b<=11 and c<=11 and a>=0 and b>=0 and c>=0:\n",
    "        if a+b+c<=21:\n",
    "            return a+b+c\n",
    "        elif a+b+c>21 and(a==11 or b==1 or c==11):\n",
    "            return a+b+c-10\n",
    "        else:\n",
    "            return ('BUST')\n",
    "blackjack(9,9,9)\n",
    "        "
   ],
   "outputs": [
    {
     "output_type": "execute_result",
     "data": {
      "text/plain": [
       "'BUST'"
      ]
     },
     "metadata": {},
     "execution_count": 38
    }
   ],
   "metadata": {}
  },
  {
   "cell_type": "code",
   "execution_count": 45,
   "source": [
    "def count_primes(num):\n",
    "    count=0\n",
    "    add=True\n",
    "    for x in range(2,num):\n",
    "        for y in range(2,x):\n",
    "            if x%y==0:\n",
    "                add=True\n",
    "            else:\n",
    "                add=False\n",
    "        if add==True:\n",
    "            count+=1\n",
    "\n",
    "    return count        \n",
    "count_primes(100)      "
   ],
   "outputs": [
    {
     "output_type": "execute_result",
     "data": {
      "text/plain": [
       "1"
      ]
     },
     "metadata": {},
     "execution_count": 45
    }
   ],
   "metadata": {}
  },
  {
   "cell_type": "code",
   "execution_count": 46,
   "source": [
    "def vol(rad):\n",
    "    return 4*3.14*rad**3/3"
   ],
   "outputs": [],
   "metadata": {}
  },
  {
   "cell_type": "code",
   "execution_count": 47,
   "source": [
    "vol(2)"
   ],
   "outputs": [
    {
     "output_type": "execute_result",
     "data": {
      "text/plain": [
       "33.49333333333333"
      ]
     },
     "metadata": {},
     "execution_count": 47
    }
   ],
   "metadata": {}
  },
  {
   "cell_type": "code",
   "execution_count": 48,
   "source": [
    "def ran_check(num,low,high):\n",
    "    return num>low and num<high"
   ],
   "outputs": [],
   "metadata": {}
  },
  {
   "cell_type": "code",
   "execution_count": 50,
   "source": [
    "ran_check(12,2,11)"
   ],
   "outputs": [
    {
     "output_type": "execute_result",
     "data": {
      "text/plain": [
       "False"
      ]
     },
     "metadata": {},
     "execution_count": 50
    }
   ],
   "metadata": {}
  },
  {
   "cell_type": "code",
   "execution_count": 54,
   "source": [
    "def up_low(s):\r\n",
    "    lower=0\r\n",
    "    upper=0\r\n",
    "    for i in s:\r\n",
    "        if i.isupper():\r\n",
    "            upper+=1\r\n",
    "        elif i.islower():\r\n",
    "            lower+=1\r\n",
    "    return upper,lower\r\n"
   ],
   "outputs": [],
   "metadata": {}
  },
  {
   "cell_type": "code",
   "execution_count": 55,
   "source": [
    "s = 'Hello Mr. Rogers, how are you this fine Tuesday?'\r\n",
    "up_low(s)"
   ],
   "outputs": [
    {
     "output_type": "execute_result",
     "data": {
      "text/plain": [
       "(4, 33)"
      ]
     },
     "metadata": {},
     "execution_count": 55
    }
   ],
   "metadata": {}
  },
  {
   "cell_type": "code",
   "execution_count": null,
   "source": [
    "def unique_list(lst):\r\n",
    "    new_lst=[]\r\n",
    "    for item in lst:\r\n",
    "        for other in lst:\r\n",
    "            if item == other"
   ],
   "outputs": [],
   "metadata": {}
  },
  {
   "cell_type": "code",
   "execution_count": 60,
   "source": [
    "def multiply(numbers):\r\n",
    "    mul=1\r\n",
    "    for num in numbers:\r\n",
    "        mul=mul*num\r\n",
    "    return mul\r\n"
   ],
   "outputs": [],
   "metadata": {}
  },
  {
   "cell_type": "code",
   "execution_count": 61,
   "source": [
    "multiply([1,2,3,-4])"
   ],
   "outputs": [
    {
     "output_type": "execute_result",
     "data": {
      "text/plain": [
       "-24"
      ]
     },
     "metadata": {},
     "execution_count": 61
    }
   ],
   "metadata": {}
  },
  {
   "cell_type": "code",
   "execution_count": 62,
   "source": [
    "def palindrome(s):\n",
    "    new=s[::-1]\n",
    "    if new==s:\n",
    "        print('Palindrome')\n",
    "    else: \n",
    "        return('not')"
   ],
   "outputs": [],
   "metadata": {}
  },
  {
   "cell_type": "code",
   "execution_count": 64,
   "source": [
    "palindrome('helle')"
   ],
   "outputs": [
    {
     "output_type": "execute_result",
     "data": {
      "text/plain": [
       "'not'"
      ]
     },
     "metadata": {},
     "execution_count": 64
    }
   ],
   "metadata": {}
  },
  {
   "cell_type": "code",
   "execution_count": 1,
   "source": [
    "lst = [1,3,2,5,6,8,4,33,10,12,15,19,85,45,100]\n",
    "even=[]\n",
    "odd=[]\n",
    "for i in lst:\n",
    "    if i%2==0:\n",
    "        even.append(i)\n",
    "    else:\n",
    "        odd.append(i) \n",
    "print(even)\n",
    "print(odd)\n"
   ],
   "outputs": [
    {
     "output_type": "stream",
     "name": "stdout",
     "text": [
      "[2, 6, 8, 4, 10, 12, 100]\n",
      "[1, 3, 5, 33, 15, 19, 85, 45]\n"
     ]
    }
   ],
   "metadata": {}
  },
  {
   "cell_type": "code",
   "execution_count": 26,
   "source": [
    "r1={1:' ',2:' ',3:' '}\n",
    "r2={1:' ',2:' ',3:' '}\n",
    "r3={1:' ',2:' ',3:' '}\n",
    "print(r1.values())\n",
    "print(r2.values())\n",
    "print(r3.values())\n",
    "count=1\n",
    "X_won=0\n",
    "O_won=0\n",
    "while count<=9:\n",
    "    print(f'Round {count}')\n",
    "    r=input(\"Enter row:\")\n",
    "    c=int(input(\"Enter column:\"))\n",
    "    if count%2!=0:\n",
    "        print(\"X's turn\" )\n",
    "        if r=='r1':\n",
    "            r1[c]='x'\n",
    "            if (r1[1]=='x' and r2[2]=='x' and r3[3]=='x') or (r1[3]=='x'and r2[2]=='x' and r3[1]=='x') or (r1[1]=='x' and r1[2]=='x' and r1[3]=='x') or (r2[1]=='x' and r2[2]=='x' and r2[3]=='x') or (r3[1]=='x' and r3[2]=='x' and r3[3]=='x') or (r1[1]=='x' and r2[1]=='x' and r3[1]=='x') or (r1[2]=='x' and r2[2]=='x' and r3[2]=='x') or (r1[3]=='x' and r2[3]=='x' and r3[3]=='x'):\n",
    "                X_won+=1\n",
    "                break\n",
    "            else:\n",
    "                pass\n",
    "        elif r=='r2':\n",
    "            r2[c]='x'\n",
    "            if (r1[1]=='x' and r2[2]=='x' and r3[3]=='x') or (r1[3]=='x'and r2[2]=='x' and r3[1]=='x') or (r1[1]=='x' and r1[2]=='x' and r1[3]=='x') or (r2[1]=='x' and r2[2]=='x' and r2[3]=='x') or (r3[1]=='x' and r3[2]=='x' and r3[3]=='x') or (r1[1]=='x' and r2[1]=='x' and r3[1]=='x') or (r1[2]=='x' and r2[2]=='x' and r3[2]=='x') or (r1[3]=='x' and r2[3]=='x' and r3[3]=='x'):\n",
    "                X_won+=1\n",
    "                break\n",
    "            else:\n",
    "                pass\n",
    "        elif r=='r3':\n",
    "            r3[c]='x'\n",
    "            if (r1[1]=='x' and r2[2]=='x' and r3[3]=='x') or (r1[3]=='x'and r2[2]=='x' and r3[1]=='x') or (r1[1]=='x' and r1[2]=='x' and r1[3]=='x') or (r2[1]=='x' and r2[2]=='x' and r2[3]=='x') or (r3[1]=='x' and r3[2]=='x' and r3[3]=='x') or (r1[1]=='x' and r2[1]=='x' and r3[1]=='x') or (r1[2]=='x' and r2[2]=='x' and r3[2]=='x') or (r1[3]=='x' and r2[3]=='x' and r3[3]=='x'):\n",
    "                X_won+=1\n",
    "                break\n",
    "            else:\n",
    "                pass\n",
    "        else:\n",
    "            print('wrong input. Try again')\n",
    "            continue\n",
    "    else:\n",
    "        print(\"O's turn\" )\n",
    "        if r=='r1':\n",
    "            r1[c]='o'\n",
    "            if (r1[1]=='o' and r2[2]=='o' and r3[3]=='o') or (r1[3]=='o'and r2[2]=='o' and r3[1]=='o') or (r1[1]=='o' and r1[2]=='o' and r1[3]=='o') or (r2[1]=='o' and r2[2]=='o' and r2[3]=='o') or (r3[1]=='o' and r3[2]=='o' and r3[3]=='o') or (r1[1]=='o' and r2[1]=='o' and r3[1]=='o') or (r1[2]=='o' and r2[2]=='o' and r3[2]=='o') or (r1[3]=='o' and r2[3]=='o' and r3[3]=='o'):\n",
    "                O_won+=1\n",
    "                break\n",
    "            else:\n",
    "                pass  \n",
    "        elif r=='r2':\n",
    "            r2[c]='o'\n",
    "            if (r1[1]=='o' and r2[2]=='o' and r3[3]=='o') or (r1[3]=='o'and r2[2]=='o' and r3[1]=='o') or (r1[1]=='o' and r1[2]=='o' and r1[3]=='o') or (r2[1]=='o' and r2[2]=='o' and r2[3]=='o') or (r3[1]=='o' and r3[2]=='o' and r3[3]=='o') or (r1[1]=='o' and r2[1]=='o' and r3[1]=='o') or (r1[2]=='o' and r2[2]=='o' and r3[2]=='o') or (r1[3]=='o' and r2[3]=='o' and r3[3]=='o'):\n",
    "                O_won+=1\n",
    "                break\n",
    "            else:\n",
    "                pass\n",
    "        elif r=='r3':\n",
    "            r3[c]='o'\n",
    "            if (r1[1]=='o' and r2[2]=='o' and r3[3]=='o') or (r1[3]=='o'and r2[2]=='o' and r3[1]=='o') or (r1[1]=='o' and r1[2]=='o' and r1[3]=='o') or (r2[1]=='o' and r2[2]=='o' and r2[3]=='o') or (r3[1]=='o' and r3[2]=='o' and r3[3]=='o') or (r1[1]=='o' and r2[1]=='o' and r3[1]=='o') or (r1[2]=='o' and r2[2]=='o' and r3[2]=='o') or (r1[3]=='o' and r2[3]=='o' and r3[3]=='o'):\n",
    "                O_won+=1\n",
    "                break\n",
    "            else:\n",
    "                pass\n",
    "        else:\n",
    "            print('wrong input. Try again')\n",
    "            continue\n",
    "    \n",
    "    print(r1.values())\n",
    "    print(r2.values())\n",
    "    print(r3.values())\n",
    "    \n",
    "    count+=1\n",
    "print(r1.values())\n",
    "print(r2.values())\n",
    "print(r3.values())\n",
    "if X_won>0:\n",
    "    print('X won!!')\n",
    "elif O_won>0:\n",
    "    print('O won!!')\n",
    "else:\n",
    "    print('Draw')"
   ],
   "outputs": [
    {
     "output_type": "stream",
     "name": "stdout",
     "text": [
      "dict_values([' ', ' ', ' '])\n",
      "dict_values([' ', ' ', ' '])\n",
      "dict_values([' ', ' ', ' '])\n",
      "Round 1\n"
     ]
    },
    {
     "output_type": "error",
     "ename": "ValueError",
     "evalue": "invalid literal for int() with base 10: ''",
     "traceback": [
      "\u001b[1;31m---------------------------------------------------------------------------\u001b[0m",
      "\u001b[1;31mValueError\u001b[0m                                Traceback (most recent call last)",
      "\u001b[1;32m<ipython-input-26-242c965bae39>\u001b[0m in \u001b[0;36m<module>\u001b[1;34m\u001b[0m\n\u001b[0;32m     11\u001b[0m     \u001b[0mprint\u001b[0m\u001b[1;33m(\u001b[0m\u001b[1;34mf'Round {count}'\u001b[0m\u001b[1;33m)\u001b[0m\u001b[1;33m\u001b[0m\u001b[1;33m\u001b[0m\u001b[0m\n\u001b[0;32m     12\u001b[0m     \u001b[0mr\u001b[0m\u001b[1;33m=\u001b[0m\u001b[0minput\u001b[0m\u001b[1;33m(\u001b[0m\u001b[1;34m\"Enter row:\"\u001b[0m\u001b[1;33m)\u001b[0m\u001b[1;33m\u001b[0m\u001b[1;33m\u001b[0m\u001b[0m\n\u001b[1;32m---> 13\u001b[1;33m     \u001b[0mc\u001b[0m\u001b[1;33m=\u001b[0m\u001b[0mint\u001b[0m\u001b[1;33m(\u001b[0m\u001b[0minput\u001b[0m\u001b[1;33m(\u001b[0m\u001b[1;34m\"Enter column:\"\u001b[0m\u001b[1;33m)\u001b[0m\u001b[1;33m)\u001b[0m\u001b[1;33m\u001b[0m\u001b[1;33m\u001b[0m\u001b[0m\n\u001b[0m\u001b[0;32m     14\u001b[0m     \u001b[1;32mif\u001b[0m \u001b[0mcount\u001b[0m\u001b[1;33m%\u001b[0m\u001b[1;36m2\u001b[0m\u001b[1;33m!=\u001b[0m\u001b[1;36m0\u001b[0m\u001b[1;33m:\u001b[0m\u001b[1;33m\u001b[0m\u001b[1;33m\u001b[0m\u001b[0m\n\u001b[0;32m     15\u001b[0m         \u001b[0mprint\u001b[0m\u001b[1;33m(\u001b[0m\u001b[1;34m\"X's turn\"\u001b[0m \u001b[1;33m)\u001b[0m\u001b[1;33m\u001b[0m\u001b[1;33m\u001b[0m\u001b[0m\n",
      "\u001b[1;31mValueError\u001b[0m: invalid literal for int() with base 10: ''"
     ]
    }
   ],
   "metadata": {}
  },
  {
   "cell_type": "code",
   "execution_count": 2,
   "source": [
    "def triangle(s1,s2,s3):\n",
    "    if s1>s2 and s1>s3:\n",
    "        if s1<s2+s3:\n",
    "            print('Forms triangle')\n",
    "        else:\n",
    "            print('not')\n",
    "    elif s2>s3 and s2>s3:\n",
    "        if s2<s1+s3:\n",
    "            print('Forms triangle')\n",
    "        else:\n",
    "            print('not')\n",
    "    elif s3>s2 and s3>s1:\n",
    "        if s3<s2+s1:\n",
    "            print('Forms triangle')\n",
    "        else:\n",
    "            print('not')\n",
    "triangle(2,3,4)"
   ],
   "outputs": [
    {
     "output_type": "stream",
     "name": "stdout",
     "text": [
      "Forms triangle\n"
     ]
    }
   ],
   "metadata": {}
  },
  {
   "cell_type": "code",
   "execution_count": 13,
   "source": [
    "def coins(x,y,z):\n",
    "    X,Y=0,0\n",
    "    if z//5<=x:\n",
    "        if z%5<=y:\n",
    "            X=z//5\n",
    "            Y=z%5\n",
    "            print(X)\n",
    "            print(Y)\n",
    "        else:\n",
    "            print('-1')\n",
    "    else:\n",
    "        if (z-(x*5))<=y:\n",
    "            print(x)\n",
    "            print(z-(x*5))\n",
    "        else:\n",
    "            print(-1)\n",
    "\n",
    "coins(5,4,21)\n",
    "\n",
    "\n"
   ],
   "outputs": [
    {
     "output_type": "stream",
     "name": "stdout",
     "text": [
      "4\n",
      "1\n"
     ]
    }
   ],
   "metadata": {}
  },
  {
   "cell_type": "code",
   "execution_count": 3,
   "source": [
    "class Cylinder:\n",
    "    pi=3.14\n",
    "    def __init__(self,height=1,radius=1):\n",
    "        self.height=height\n",
    "        self.radius=radius\n",
    "\n",
    "        \n",
    "    def volume(self):\n",
    "        return self.pi*self.height*self.radius**2\n",
    "    \n",
    "    def surface_area(self):\n",
    "        return 2*self.pi*self.radius*self.height+2*self.pi*self.radius**2"
   ],
   "outputs": [],
   "metadata": {}
  },
  {
   "cell_type": "code",
   "execution_count": 4,
   "source": [
    "c = Cylinder(2,3)"
   ],
   "outputs": [],
   "metadata": {}
  },
  {
   "cell_type": "code",
   "execution_count": 5,
   "source": [
    "c.volume()"
   ],
   "outputs": [
    {
     "output_type": "execute_result",
     "data": {
      "text/plain": [
       "56.52"
      ]
     },
     "metadata": {},
     "execution_count": 5
    }
   ],
   "metadata": {}
  },
  {
   "cell_type": "code",
   "execution_count": 6,
   "source": [
    "c.surface_area()"
   ],
   "outputs": [
    {
     "output_type": "execute_result",
     "data": {
      "text/plain": [
       "94.2"
      ]
     },
     "metadata": {},
     "execution_count": 6
    }
   ],
   "metadata": {}
  },
  {
   "cell_type": "code",
   "execution_count": 16,
   "source": [
    "class Line:\n",
    "    \n",
    "    def __init__(self,coor1,coor2):\n",
    "        self.coor1=coor1\n",
    "        self.coor2=coor2\n",
    "    \n",
    "    def distance(self):\n",
    "        return ((self.coor1[0]-self.coor2[0])**2+(self.coor1[1]-self.coor2[1])**2)**(1/2)\n",
    "    \n",
    "    def slope(self):\n",
    "        return (self.coor2[1]-self.coor1[1])/(self.coor2[0]-self.coor1[0])"
   ],
   "outputs": [],
   "metadata": {}
  },
  {
   "cell_type": "code",
   "execution_count": 17,
   "source": [
    "coordinate1 = (3,2)\n",
    "coordinate2 = (8,10)\n",
    "\n",
    "li = Line(coordinate1,coordinate2)\n",
    "li.distance()\n"
   ],
   "outputs": [
    {
     "output_type": "execute_result",
     "data": {
      "text/plain": [
       "9.433981132056603"
      ]
     },
     "metadata": {},
     "execution_count": 17
    }
   ],
   "metadata": {}
  },
  {
   "cell_type": "code",
   "execution_count": 18,
   "source": [
    "li.slope()"
   ],
   "outputs": [
    {
     "output_type": "execute_result",
     "data": {
      "text/plain": [
       "1.6"
      ]
     },
     "metadata": {},
     "execution_count": 18
    }
   ],
   "metadata": {}
  },
  {
   "cell_type": "code",
   "execution_count": 45,
   "source": [
    "class Account:\n",
    "    def __init__(self,owner,balance):\n",
    "        self.owner=owner\n",
    "        self.balance=balance\n",
    "    def deposit(self,deposit):\n",
    "        self.balance+=deposit\n",
    "        return \"Deposit Accepted\"\n",
    "    \n",
    "    def withdraw(self,withdraw):\n",
    "        if withdraw<=self.balance:\n",
    "            self.balance=self.balance-withdraw\n",
    "            return \"Withdaw accepted\"\n",
    "        else:\n",
    "            return \"Funds insufficient\"\n",
    "\n",
    "    def __str__(self):\n",
    "        return f\"Account Owner : {self.owner}\\nAccount balance : {self.balance}\"\n"
   ],
   "outputs": [],
   "metadata": {}
  },
  {
   "cell_type": "code",
   "execution_count": 46,
   "source": [
    "acct1 = Account('Jose',100)\n",
    "print(acct1)"
   ],
   "outputs": [
    {
     "output_type": "stream",
     "name": "stdout",
     "text": [
      "Account Owner : Jose\n",
      "Account balance : 100\n"
     ]
    }
   ],
   "metadata": {}
  },
  {
   "cell_type": "code",
   "execution_count": 47,
   "source": [
    "acct1.owner"
   ],
   "outputs": [
    {
     "output_type": "execute_result",
     "data": {
      "text/plain": [
       "'Jose'"
      ]
     },
     "metadata": {},
     "execution_count": 47
    }
   ],
   "metadata": {}
  },
  {
   "cell_type": "code",
   "execution_count": 48,
   "source": [
    "acct1.balance"
   ],
   "outputs": [
    {
     "output_type": "execute_result",
     "data": {
      "text/plain": [
       "100"
      ]
     },
     "metadata": {},
     "execution_count": 48
    }
   ],
   "metadata": {}
  },
  {
   "cell_type": "code",
   "execution_count": 49,
   "source": [
    "\n",
    "acct1.withdraw(205)"
   ],
   "outputs": [
    {
     "output_type": "execute_result",
     "data": {
      "text/plain": [
       "'Funds insufficient'"
      ]
     },
     "metadata": {},
     "execution_count": 49
    }
   ],
   "metadata": {}
  },
  {
   "cell_type": "code",
   "execution_count": 50,
   "source": [
    "acct1.deposit(50)"
   ],
   "outputs": [
    {
     "output_type": "execute_result",
     "data": {
      "text/plain": [
       "'Deposit Accepted'"
      ]
     },
     "metadata": {},
     "execution_count": 50
    }
   ],
   "metadata": {}
  },
  {
   "cell_type": "code",
   "execution_count": 51,
   "source": [
    "acct1.balance"
   ],
   "outputs": [
    {
     "output_type": "execute_result",
     "data": {
      "text/plain": [
       "150"
      ]
     },
     "metadata": {},
     "execution_count": 51
    }
   ],
   "metadata": {}
  },
  {
   "cell_type": "code",
   "execution_count": 52,
   "source": [
    "acct1.withdraw(20)"
   ],
   "outputs": [
    {
     "output_type": "execute_result",
     "data": {
      "text/plain": [
       "'Withdaw accepted'"
      ]
     },
     "metadata": {},
     "execution_count": 52
    }
   ],
   "metadata": {}
  },
  {
   "cell_type": "code",
   "execution_count": 53,
   "source": [
    "acct1.withdraw(90)"
   ],
   "outputs": [
    {
     "output_type": "execute_result",
     "data": {
      "text/plain": [
       "'Withdaw accepted'"
      ]
     },
     "metadata": {},
     "execution_count": 53
    }
   ],
   "metadata": {}
  },
  {
   "cell_type": "code",
   "execution_count": 54,
   "source": [
    "acct1.balance"
   ],
   "outputs": [
    {
     "output_type": "execute_result",
     "data": {
      "text/plain": [
       "40"
      ]
     },
     "metadata": {},
     "execution_count": 54
    }
   ],
   "metadata": {}
  },
  {
   "cell_type": "code",
   "execution_count": 55,
   "source": [
    "acct1.withdraw(50)"
   ],
   "outputs": [
    {
     "output_type": "execute_result",
     "data": {
      "text/plain": [
       "'Funds insufficient'"
      ]
     },
     "metadata": {},
     "execution_count": 55
    }
   ],
   "metadata": {}
  },
  {
   "cell_type": "code",
   "execution_count": 2,
   "source": [
    "try:\n",
    "    for i in ['a','b','c']:\n",
    "        print(i**2)\n",
    "except TypeError:\n",
    "    print('There is a TypeError')\n",
    "\n"
   ],
   "outputs": [
    {
     "output_type": "stream",
     "name": "stdout",
     "text": [
      "There is a TypeError\n"
     ]
    }
   ],
   "metadata": {}
  },
  {
   "cell_type": "code",
   "execution_count": 3,
   "source": [
    "try:  \n",
    "    x = 5\n",
    "    y = 0\n",
    "\n",
    "    z = x/y\n",
    "except ZeroDivisionError:\n",
    "    print('Cannot be divided by zero')\n",
    "finally:\n",
    "    print('All Done')"
   ],
   "outputs": [
    {
     "output_type": "stream",
     "name": "stdout",
     "text": [
      "Cannot be divided by zero\n",
      "All Done\n"
     ]
    }
   ],
   "metadata": {}
  },
  {
   "cell_type": "code",
   "execution_count": 7,
   "source": [
    "def ask():\n",
    "    while True:\n",
    "        try:\n",
    "            num=int(input('Enter an integer:'))\n",
    "        except:\n",
    "            print('An error occured! Please try again!')\n",
    "            continue\n",
    "        else:\n",
    "            print(f'Thank you! Your number squared is :{num**2}')\n",
    "            break"
   ],
   "outputs": [],
   "metadata": {}
  },
  {
   "cell_type": "code",
   "execution_count": 11,
   "source": [
    "ask()"
   ],
   "outputs": [
    {
     "output_type": "stream",
     "name": "stdout",
     "text": [
      "Thank you! Your number squared is :4624\n"
     ]
    }
   ],
   "metadata": {}
  },
  {
   "cell_type": "code",
   "execution_count": null,
   "source": [],
   "outputs": [],
   "metadata": {}
  }
 ]
}