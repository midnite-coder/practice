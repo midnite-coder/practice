{
 "cells": [
  {
   "cell_type": "code",
   "execution_count": 21,
   "source": [
    "def nlist(lst,n):\r\n",
    "    newlst=[]\r\n",
    "    newlst2=[]\r\n",
    "    if len(lst)>=n:\r\n",
    "        c=len(lst)//n\r\n",
    "        for i in range(3):\r\n",
    "            newlst.append(lst[n*i:n*(i+1)]) \r\n",
    "    return newlst                   \r\n",
    "nlist([1,2,3,4,5,6,7],3)"
   ],
   "outputs": [
    {
     "output_type": "execute_result",
     "data": {
      "text/plain": [
       "[[1, 2, 3], [4, 5, 6], [7]]"
      ]
     },
     "metadata": {},
     "execution_count": 21
    }
   ],
   "metadata": {}
  }
 ],
 "metadata": {
  "orig_nbformat": 4,
  "language_info": {
   "name": "python",
   "version": "3.8.2",
   "mimetype": "text/x-python",
   "codemirror_mode": {
    "name": "ipython",
    "version": 3
   },
   "pygments_lexer": "ipython3",
   "nbconvert_exporter": "python",
   "file_extension": ".py"
  },
  "kernelspec": {
   "name": "python3",
   "display_name": "Python 3.8.2 32-bit"
  },
  "interpreter": {
   "hash": "463e63e35f7cb34f5d88b04eaa9b3a16ac2b5692d43f0849e4b981ac2cc93bdc"
  }
 },
 "nbformat": 4,
 "nbformat_minor": 2
}